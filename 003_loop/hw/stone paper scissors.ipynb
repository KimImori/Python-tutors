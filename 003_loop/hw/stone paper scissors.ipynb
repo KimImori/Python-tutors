{
 "cells": [
  {
   "cell_type": "markdown",
   "id": "2886b3b0",
   "metadata": {},
   "source": [
    "# stone paper scissors"
   ]
  },
  {
   "cell_type": "markdown",
   "id": "5838f559",
   "metadata": {},
   "source": [
    "Запустить игру в бесконечном цикле. Запросить ввод от пользователя (R - камень, S - ножницы, P - бумага). Сгенерировать случайный выбор компьютера. Вывести выбор компьютера. Определить победителя, выведя соответствующую информацию. Спросить пользователя - хочет ли он повторить игру. Если хочет - повторить, не хочет - выйти из цикла."
   ]
  },
  {
   "cell_type": "code",
   "execution_count": 1,
   "id": "ff6e5f91",
   "metadata": {},
   "outputs": [],
   "source": [
    "import random"
   ]
  },
  {
   "cell_type": "code",
   "execution_count": null,
   "id": "594a3d04",
   "metadata": {},
   "outputs": [],
   "source": [
    "should_continue = True\n",
    "\n",
    "while should_continue:\n",
    "    player_choice = input(\"Player choice : [R,S,P]\")\n",
    "    \n",
    "    if player_choice not in ['R', 'S', 'P']:\n",
    "        print(\"incorrect input\")\n",
    "        continue\n",
    "    gen = {1:'R', 2:'S', 3:'P'}\n",
    "    comp_choice = gen{random.randint(1,3)}\n",
    "    \n",
    "    print(f'Comp choice = {comp_choice}'')\n",
    "          \n",
    "    combinations = [('P', 'R'), ('R', 'S'), ('S', 'P')]\n",
    "    \n",
    "    if player_choice == comp_choice:\n",
    "          print(\"Draw\")\n",
    "    elif (player_choice, comp_choice) in combinations:\n",
    "          print('player wins')\n",
    "    else:\n",
    "          print('comp wins')\n",
    "    should_continue = input('You want to continue? [y/n]') == \"y\""
   ]
  },
  {
   "cell_type": "code",
   "execution_count": null,
   "id": "4eb3dd86",
   "metadata": {},
   "outputs": [],
   "source": []
  }
 ],
 "metadata": {
  "kernelspec": {
   "display_name": "Python 3 (ipykernel)",
   "language": "python",
   "name": "python3"
  },
  "language_info": {
   "codemirror_mode": {
    "name": "ipython",
    "version": 3
   },
   "file_extension": ".py",
   "mimetype": "text/x-python",
   "name": "python",
   "nbconvert_exporter": "python",
   "pygments_lexer": "ipython3",
   "version": "3.9.7"
  }
 },
 "nbformat": 4,
 "nbformat_minor": 5
}
