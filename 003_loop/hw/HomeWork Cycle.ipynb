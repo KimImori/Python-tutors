{
 "cells": [
  {
   "cell_type": "markdown",
   "id": "1e7921fd",
   "metadata": {},
   "source": [
    "# Лесенка\n"
   ]
  },
  {
   "cell_type": "markdown",
   "id": "cad7567d",
   "metadata": {},
   "source": [
    "Вывести лесенкой символ звёздочки по кол-ву строк, заданных пользователем:\n",
    "запросить ввод у пользователя кол-ва строк, вывести звёздочки лесенкой.<br>\n",
    "Например, пользователь ввёл число 2. Тогда выводим:<br>\n",
    "```Python\n",
    "*\n",
    "**\n",
    "```\n",
    "Например, пользователь ввёл число 4. Тогда выводим:\n",
    "```Python\n",
    "*\n",
    "\n",
    "**\n",
    "\n",
    "***\n",
    "\n",
    "****\n",
    "```\n",
    "и так далее, смысл должен быть ясен.\n",
    "\n",
    "Примечание: символ можно умножать на число, получая строку с дублированным символом\n",
    "(но решить можно и без этого)"
   ]
  },
  {
   "cell_type": "code",
   "execution_count": 30,
   "id": "1d74933f",
   "metadata": {},
   "outputs": [
    {
     "name": "stdout",
     "output_type": "stream",
     "text": [
      "Enter the number of rows10\n"
     ]
    }
   ],
   "source": [
    "rows = int(input('Enter the number of rows'))"
   ]
  },
  {
   "cell_type": "code",
   "execution_count": 31,
   "id": "b3973b05",
   "metadata": {},
   "outputs": [
    {
     "name": "stdout",
     "output_type": "stream",
     "text": [
      "**********\n",
      "*********\n",
      "********\n",
      "*******\n",
      "******\n",
      "*****\n",
      "****\n",
      "***\n",
      "**\n",
      "*\n"
     ]
    }
   ],
   "source": [
    "for i in range(rows):\n",
    "    \n",
    "    for j in range(rows-i):\n",
    "        print(\"*\", end=\"\" )\n",
    "        \n",
    "    #Create new line-enter\n",
    "    print()"
   ]
  },
  {
   "cell_type": "code",
   "execution_count": null,
   "id": "0b46bfa6",
   "metadata": {},
   "outputs": [],
   "source": []
  }
 ],
 "metadata": {
  "kernelspec": {
   "display_name": "Python 3 (ipykernel)",
   "language": "python",
   "name": "python3"
  },
  "language_info": {
   "codemirror_mode": {
    "name": "ipython",
    "version": 3
   },
   "file_extension": ".py",
   "mimetype": "text/x-python",
   "name": "python",
   "nbconvert_exporter": "python",
   "pygments_lexer": "ipython3",
   "version": "3.9.7"
  }
 },
 "nbformat": 4,
 "nbformat_minor": 5
}
