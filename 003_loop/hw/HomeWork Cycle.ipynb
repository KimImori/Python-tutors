{
 "cells": [
  {
   "cell_type": "markdown",
   "id": "1e7921fd",
   "metadata": {},
   "source": [
    "# Лесенка\n"
   ]
  },
  {
   "cell_type": "markdown",
   "id": "cad7567d",
   "metadata": {},
   "source": [
    "Вывести лесенкой символ звёздочки по кол-ву строк, заданных пользователем:\n",
    "запросить ввод у пользователя кол-ва строк, вывести звёздочки лесенкой.<br>\n",
    "Например, пользователь ввёл число 2. Тогда выводим:<br>\n",
    "```Python\n",
    "*\n",
    "**\n",
    "```\n",
    "Например, пользователь ввёл число 4. Тогда выводим:\n",
    "```Python\n",
    "*\n",
    "\n",
    "**\n",
    "\n",
    "***\n",
    "\n",
    "****\n",
    "```\n",
    "и так далее, смысл должен быть ясен.\n",
    "\n",
    "Примечание: символ можно умножать на число, получая строку с дублированным символом\n",
    "(но решить можно и без этого)"
   ]
  },
  {
   "cell_type": "code",
   "execution_count": 30,
   "id": "1d74933f",
   "metadata": {},
   "outputs": [
    {
     "name": "stdout",
     "output_type": "stream",
     "text": [
      "Enter the number of rows10\n"
     ]
    }
   ],
   "source": [
    "rows = int(input('Enter the number of rows'))"
   ]
  },
  {
   "cell_type": "code",
   "execution_count": 31,
   "id": "b3973b05",
   "metadata": {},
   "outputs": [
    {
     "name": "stdout",
     "output_type": "stream",
     "text": [
      "**********\n",
      "*********\n",
      "********\n",
      "*******\n",
      "******\n",
      "*****\n",
      "****\n",
      "***\n",
      "**\n",
      "*\n"
     ]
    }
   ],
   "source": [
    "for i in range(rows):\n",
    "    \n",
    "    for j in range(rows-i):\n",
    "        print(\"*\", end=\"\" )\n",
    "        \n",
    "    #Create new line-enter\n",
    "    print()"
   ]
  },
  {
   "cell_type": "markdown",
   "id": "05408d1b",
   "metadata": {},
   "source": [
    "# Чётное и нечетное число\n"
   ]
  },
  {
   "cell_type": "markdown",
   "id": "cde6a232",
   "metadata": {},
   "source": [
    " Запросить у пользователя ввод числа. Построить цикл от 0 до введённого числа (включительно) и для чётных чисел вывести то, что они чётные, а для нечётных, что они нечётные.<br> Пример вывода:\n",
    "```Python\n",
    "0 is EVEN\n",
    "1 is ODD\n",
    "2 is EVEN\n",
    "```"
   ]
  },
  {
   "cell_type": "code",
   "execution_count": 1,
   "id": "131d046e",
   "metadata": {},
   "outputs": [
    {
     "name": "stdout",
     "output_type": "stream",
     "text": [
      "Enter the number5\n"
     ]
    }
   ],
   "source": [
    "numbers = int(input('Enter the number'))"
   ]
  },
  {
   "cell_type": "code",
   "execution_count": 2,
   "id": "eeff6e4c",
   "metadata": {},
   "outputs": [
    {
     "name": "stdout",
     "output_type": "stream",
     "text": [
      "0 is even\n",
      "1is odd\n",
      "2 is even\n",
      "3is odd\n",
      "4 is even\n"
     ]
    }
   ],
   "source": [
    "for i in range(numbers):\n",
    "    if i % 2 == 0:\n",
    "        print(f'{i} is even')\n",
    "    else:\n",
    "            print(f'{i}is odd')"
   ]
  },
  {
   "cell_type": "code",
   "execution_count": null,
   "id": "b22e0e75",
   "metadata": {},
   "outputs": [],
   "source": []
  }
 ],
 "metadata": {
  "kernelspec": {
   "display_name": "Python 3 (ipykernel)",
   "language": "python",
   "name": "python3"
  },
  "language_info": {
   "codemirror_mode": {
    "name": "ipython",
    "version": 3
   },
   "file_extension": ".py",
   "mimetype": "text/x-python",
   "name": "python",
   "nbconvert_exporter": "python",
   "pygments_lexer": "ipython3",
   "version": "3.9.7"
  }
 },
 "nbformat": 4,
 "nbformat_minor": 5
}
