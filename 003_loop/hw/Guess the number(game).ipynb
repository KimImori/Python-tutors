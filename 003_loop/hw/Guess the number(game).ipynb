{
 "cells": [
  {
   "cell_type": "markdown",
   "id": "b49bfca0",
   "metadata": {},
   "source": [
    "# Guess the number"
   ]
  },
  {
   "cell_type": "markdown",
   "id": "a6e6a95a",
   "metadata": {},
   "source": [
    "Компьютер загадывает число от 1 до 50 и даёт 6 попыток пользователю, чтобы тот смог угадать загаданное число. Когда пользователь вводит число, компьютер проверяет угадано ли число и если не угадано, то сообщает пользователю меньше ли или больше загаданое число. Если пользователь угадал - то сообщает о том, что число отгадано.\n",
    "\n",
    "Подсказка: для \"загадывания\" числа используйте модуль random: импортируйте его и для генерации (загадывания) числа вызовите метод random.randint(1, 50)."
   ]
  },
  {
   "cell_type": "code",
   "execution_count": 2,
   "id": "6057a955",
   "metadata": {},
   "outputs": [],
   "source": [
    "import random"
   ]
  },
  {
   "cell_type": "code",
   "execution_count": 7,
   "id": "f9ef774f",
   "metadata": {},
   "outputs": [
    {
     "name": "stdout",
     "output_type": "stream",
     "text": [
      "Enter tne number from 1 to 505\n",
      "try to guess5\n",
      "your answer is less than the hidden number\n",
      "try to guess25\n",
      "your answer is less than the hidden number\n",
      "try to guess35\n",
      "your answer is less than the hidden number\n",
      "try to guess47\n",
      "your answer is too high\n",
      "try to guess44\n",
      "your answer is too high\n",
      "try to guess43\n",
      "your answer is too high\n",
      "you didn't make it.My namber was: 36\n"
     ]
    }
   ],
   "source": [
    "tries = 0\n",
    "\n",
    "number = random.randint(1, 50)\n",
    "\n",
    "int(input(\"Enter tne number from 1 to 50\"))\n",
    "\n",
    "while tries < 6:\n",
    "    guess = int(input('try to guess'))\n",
    "    \n",
    "    tries+=1\n",
    "    \n",
    "    if guess < number:\n",
    "        print('your answer is less than the hidden number')\n",
    "        \n",
    "    if guess > number:\n",
    "        print(\"your answer is too high\")\n",
    "        \n",
    "    if guess == number:\n",
    "        print(f'your gueesed my number in {tries} guesses')\n",
    "        \n",
    "    if guess != number and tries ==6:\n",
    "        print(f\"you didn't make it.My namber was: {number}\")"
   ]
  },
  {
   "cell_type": "code",
   "execution_count": null,
   "id": "99aa0758",
   "metadata": {},
   "outputs": [],
   "source": []
  }
 ],
 "metadata": {
  "kernelspec": {
   "display_name": "Python 3 (ipykernel)",
   "language": "python",
   "name": "python3"
  },
  "language_info": {
   "codemirror_mode": {
    "name": "ipython",
    "version": 3
   },
   "file_extension": ".py",
   "mimetype": "text/x-python",
   "name": "python",
   "nbconvert_exporter": "python",
   "pygments_lexer": "ipython3",
   "version": "3.9.7"
  }
 },
 "nbformat": 4,
 "nbformat_minor": 5
}
