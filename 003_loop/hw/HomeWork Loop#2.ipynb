{
 "cells": [
  {
   "cell_type": "markdown",
   "id": "b8e8f175",
   "metadata": {},
   "source": [
    "# Division by 3 or 5"
   ]
  },
  {
   "cell_type": "markdown",
   "id": "945c2817",
   "metadata": {},
   "source": [
    "Запросить ввод числа у пользователя. Построить цикл от 0 до введённого числа (включительно) и посчитать сумму всех чисел, делимых без остатка на 3 или 5.\n",
    "\n",
    "Примечание: задача решается как прямым for, так и с помощью list comprehension (просуммировать числа списка можно, передав список в функцию sum(arg_list))."
   ]
  },
  {
   "cell_type": "code",
   "execution_count": 19,
   "id": "5be170c9",
   "metadata": {},
   "outputs": [
    {
     "name": "stdout",
     "output_type": "stream",
     "text": [
      "Enter the limit100\n",
      "total_sum = 2418\n"
     ]
    }
   ],
   "source": [
    "limit = int(input('Enter the limit'))\n",
    "\n",
    "total_sum = 0\n",
    "for i in range(limit+1):\n",
    "    if i % 3 == 0 or i % 5 ==0:\n",
    "        total_sum += i\n",
    "print(f'total_sum = {total_sum}')"
   ]
  },
  {
   "cell_type": "code",
   "execution_count": 20,
   "id": "a37b748a",
   "metadata": {},
   "outputs": [],
   "source": [
    "numbers=list(range(limit+1))"
   ]
  },
  {
   "cell_type": "code",
   "execution_count": 21,
   "id": "19e76e37",
   "metadata": {},
   "outputs": [],
   "source": [
    "filtered_numbers=[n for n in numbers if n % 3 == 0 or n % 5 ==0]"
   ]
  },
  {
   "cell_type": "code",
   "execution_count": 22,
   "id": "31b1d46b",
   "metadata": {},
   "outputs": [
    {
     "data": {
      "text/plain": [
       "2418"
      ]
     },
     "execution_count": 22,
     "metadata": {},
     "output_type": "execute_result"
    }
   ],
   "source": [
    "sum(filtered_numbers)"
   ]
  },
  {
   "cell_type": "markdown",
   "id": "4840279f",
   "metadata": {},
   "source": [
    "# Joined List"
   ]
  },
  {
   "cell_type": "markdown",
   "id": "68504c69",
   "metadata": {},
   "source": [
    "Даны два списка:\n",
    "```\n",
    "first_list = [1, 2, 3, 4, 5]\n",
    "second_list = [11, 12, 13, 14, 15]\n",
    "```\n",
    "Взять из первого списка все нечётные числа, из второго чётные и объединить их в новом списке.\n",
    "\n",
    "Примечание: можно сделать двумя циклами for, можно одним, можно с помощью list comprehensions."
   ]
  },
  {
   "cell_type": "code",
   "execution_count": 27,
   "id": "5b8a622e",
   "metadata": {},
   "outputs": [],
   "source": [
    "list1 =list (range(0, 100))\n",
    "list2 =list (range(0, 100))\n",
    "list3= []"
   ]
  },
  {
   "cell_type": "code",
   "execution_count": 32,
   "id": "a998ef09",
   "metadata": {},
   "outputs": [],
   "source": [
    "for i in list1:\n",
    "    if i % 2 == 1:\n",
    "        list3.append(i)\n",
    "for i in list2:\n",
    "    if i % 2 == 0:\n",
    "        list3.append(i)\n",
    "        \n",
    "    "
   ]
  },
  {
   "cell_type": "code",
   "execution_count": 36,
   "id": "bbb73020",
   "metadata": {},
   "outputs": [],
   "source": [
    "odds =[x for x in list1 if x %2 == 1]\n",
    "evens =[x for x in list2 if x %2 == 0]"
   ]
  },
  {
   "cell_type": "code",
   "execution_count": 35,
   "id": "09048772",
   "metadata": {},
   "outputs": [],
   "source": [
    "joined_list = odds+evens"
   ]
  },
  {
   "cell_type": "markdown",
   "id": "d14654b4",
   "metadata": {},
   "source": [
    "# Cards Sum"
   ]
  },
  {
   "cell_type": "markdown",
   "id": "b038641d",
   "metadata": {},
   "source": [
    "Задача: имея список карт (например, см. current_hand выше), посчитать их общий \"вес\".\n",
    "\n",
    "Проверьте своё решение на следующих списках карт:\n",
    "```\n",
    "current_hand = [2, 3, 4, 10, 'Q', 5] # общий вес = 2\n",
    "current_hand = ['A', 3, 4, 10, 'J', 4] # общий вес = 0\n",
    "current_hand = [2, 7, 4, 9, 3, 5] # общий вес = 4\n",
    "```"
   ]
  },
  {
   "cell_type": "code",
   "execution_count": 42,
   "id": "a5433cde",
   "metadata": {},
   "outputs": [
    {
     "name": "stdout",
     "output_type": "stream",
     "text": [
      "2\n"
     ]
    }
   ],
   "source": [
    "current_hand = [2,3,4,5,10,'Q']\n",
    "cards = {2: 1, 3:1, 4: 1, 5: 1, 6: 1, 7: 0, 8: 0, 9: 0, 10: -1, 'j':-1, 'Q':-1, 'K':-1, 'A':-1}\n",
    "card_sum = sum([cards[i] for i in current_hand])\n",
    "print(card_sum)"
   ]
  }
 ],
 "metadata": {
  "kernelspec": {
   "display_name": "Python 3 (ipykernel)",
   "language": "python",
   "name": "python3"
  },
  "language_info": {
   "codemirror_mode": {
    "name": "ipython",
    "version": 3
   },
   "file_extension": ".py",
   "mimetype": "text/x-python",
   "name": "python",
   "nbconvert_exporter": "python",
   "pygments_lexer": "ipython3",
   "version": "3.9.7"
  }
 },
 "nbformat": 4,
 "nbformat_minor": 5
}
