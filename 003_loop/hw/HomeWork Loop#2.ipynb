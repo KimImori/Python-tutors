{
 "cells": [
  {
   "cell_type": "markdown",
   "id": "fa3bdc00",
   "metadata": {},
   "source": [
    "# Division by 3 or 5"
   ]
  },
  {
   "cell_type": "markdown",
   "id": "672a5bcc",
   "metadata": {},
   "source": [
    "Запросить ввод числа у пользователя. Построить цикл от 0 до введённого числа (включительно) и посчитать сумму всех чисел, делимых без остатка на 3 или 5.\n",
    "\n",
    "Примечание: задача решается как прямым for, так и с помощью list comprehension (просуммировать числа списка можно, передав список в функцию sum(arg_list))."
   ]
  },
  {
   "cell_type": "code",
   "execution_count": 19,
   "id": "e64cb036",
   "metadata": {},
   "outputs": [
    {
     "name": "stdout",
     "output_type": "stream",
     "text": [
      "Enter the limit100\n",
      "total_sum = 2418\n"
     ]
    }
   ],
   "source": [
    "limit = int(input('Enter the limit'))\n",
    "\n",
    "total_sum = 0\n",
    "for i in range(limit+1):\n",
    "    if i % 3 == 0 or i % 5 ==0:\n",
    "        total_sum += i\n",
    "print(f'total_sum = {total_sum}')"
   ]
  },
  {
   "cell_type": "code",
   "execution_count": 20,
   "id": "5ef13abf",
   "metadata": {},
   "outputs": [],
   "source": [
    "numbers=list(range(limit+1))"
   ]
  },
  {
   "cell_type": "code",
   "execution_count": 21,
   "id": "6220a8f4",
   "metadata": {},
   "outputs": [],
   "source": [
    "filtered_numbers=[n for n in numbers if n % 3 == 0 or n % 5 ==0]"
   ]
  },
  {
   "cell_type": "code",
   "execution_count": 22,
   "id": "403bd50c",
   "metadata": {},
   "outputs": [
    {
     "data": {
      "text/plain": [
       "2418"
      ]
     },
     "execution_count": 22,
     "metadata": {},
     "output_type": "execute_result"
    }
   ],
   "source": [
    "sum(filtered_numbers)"
   ]
  },
  {
   "cell_type": "markdown",
   "id": "311acebe",
   "metadata": {},
   "source": [
    "# Joined List"
   ]
  },
  {
   "cell_type": "markdown",
   "id": "cde2a5ba",
   "metadata": {},
   "source": [
    "Даны два списка:\n",
    "```\n",
    "first_list = [1, 2, 3, 4, 5]\n",
    "second_list = [11, 12, 13, 14, 15]\n",
    "```\n",
    "Взять из первого списка все нечётные числа, из второго чётные и объединить их в новом списке.\n",
    "\n",
    "Примечание: можно сделать двумя циклами for, можно одним, можно с помощью list comprehensions."
   ]
  },
  {
   "cell_type": "code",
   "execution_count": 27,
   "id": "3ed4c830",
   "metadata": {},
   "outputs": [],
   "source": [
    "list1 =list (range(0, 100))\n",
    "list2 =list (range(0, 100))\n",
    "list3= []"
   ]
  },
  {
   "cell_type": "code",
   "execution_count": 32,
   "id": "67da7808",
   "metadata": {},
   "outputs": [],
   "source": [
    "for i in list1:\n",
    "    if i % 2 == 1:\n",
    "        list3.append(i)\n",
    "for i in list2:\n",
    "    if i % 2 == 0:\n",
    "        list3.append(i)\n",
    "        \n",
    "    "
   ]
  },
  {
   "cell_type": "code",
   "execution_count": 36,
   "id": "47c24d94",
   "metadata": {},
   "outputs": [],
   "source": [
    "odds =[x for x in list1 if x %2 == 1]\n",
    "evens =[x for x in list2 if x %2 == 0]"
   ]
  },
  {
   "cell_type": "code",
   "execution_count": 35,
   "id": "b7aefab8",
   "metadata": {},
   "outputs": [],
   "source": [
    "joined_list = odds+evens"
   ]
  },
  {
   "cell_type": "markdown",
   "id": "9a4fcb90",
   "metadata": {},
   "source": [
    "# Cards Sum"
   ]
  },
  {
   "cell_type": "markdown",
   "id": "665cd64d",
   "metadata": {},
   "source": [
    "Задача: имея список карт (например, см. current_hand выше), посчитать их общий \"вес\".\n",
    "\n",
    "Проверьте своё решение на следующих списках карт:\n",
    "```\n",
    "current_hand = [2, 3, 4, 10, 'Q', 5] # общий вес = 2\n",
    "current_hand = ['A', 3, 4, 10, 'J', 4] # общий вес = 0\n",
    "current_hand = [2, 7, 4, 9, 3, 5] # общий вес = 4\n",
    "```"
   ]
  },
  {
   "cell_type": "code",
   "execution_count": 43,
   "id": "9ec77b00",
   "metadata": {},
   "outputs": [
    {
     "name": "stdout",
     "output_type": "stream",
     "text": [
      "2\n"
     ]
    }
   ],
   "source": [
    "current_hand = [2,3,4,5,10,'Q']\n",
    "cards = {2: 1, 3:1, 4: 1, 5: 1, 6: 1, 7: 0, 8: 0, 9: 0, 10: -1, 'j':-1, 'Q':-1, 'K':-1, 'A':-1}\n",
    "card_sum = sum([cards[i] for i in current_hand])\n",
    "print(card_sum)"
   ]
  },
  {
   "cell_type": "markdown",
   "id": "f9509a98",
   "metadata": {},
   "source": [
    "# Определяем Flush"
   ]
  },
  {
   "cell_type": "markdown",
   "id": "4184c563",
   "metadata": {},
   "source": [
    "Идёт игра в семи-карточный техасский покер. На столе лежат пять карт и в руке две карты. Необходимо определить есть ли комбинация, называемая флеш (Flush).Комбинация флеш определяется наличием пяти карт одной масти (среди всех карт: и тех, что лежат на столе и тех, что в руке)\n",
    "\n",
    "Заведите две переменные: table_cards и hand_cards. \n",
    "\n",
    "В обе переменные надо записать списки карт, в первой - пять карт на столе, во второй - две карты в руке.\n",
    "\n",
    "Вот примеры списков, которые вы можете записать в эти переменные для проверки вашего решения:\n",
    "```\n",
    "[\"A_S\", \"J_H\", \"7_D\", \"8_D\", \"10_D\"], [\"J_D\", \"3_D\"] # здесь есть флеш\n",
    "[\"10_S\", \"7_S\", \"9_H\", \"4_S\", \"3_S\"], [\"K_S\", \"Q_S\"] # здесь есть флеш\n",
    "[\"3_S\", \"10_H\", \"10_D\", \"10_C\", \"10_S\"], [\"3_S\", \"4_D\"] # здесь нет флеша\n",
    "```\n",
    "\n",
    "Как видите, каждая карта записывается в определённом формате. Первым символом обозначается \"номинал\" карты.<br> Возможные значения: 2, 3, 4, 5, 6, 7, 8, 9, 10, J, Q, K, A<br>Второй символ - всегда подчёркивание.<br>Третий символ - масть. Возможные значения: S (пики), H (черви), D (буби), C (трефы) \n",
    "\n",
    "Если присутствует комбинация флеш - вывести на консоль \"Flush!\", в противном случае вывести \"No Flush!\""
   ]
  },
  {
   "cell_type": "code",
   "execution_count": 36,
   "id": "c4f759f4",
   "metadata": {},
   "outputs": [],
   "source": [
    "table_cards = [\"A_S\", \"J_H\", \"7_D\", \"8_D\", \"10_D\"]\n",
    "hand_cards = [\"J_D\", \"3_\"]"
   ]
  },
  {
   "cell_type": "code",
   "execution_count": 37,
   "id": "a3ccc6fb",
   "metadata": {},
   "outputs": [],
   "source": [
    "table_suites =[i[-1] for i in table_cards]\n",
    "hand_suites = [i[-1] for i in hand_cards]"
   ]
  },
  {
   "cell_type": "code",
   "execution_count": 38,
   "id": "b38258d3",
   "metadata": {},
   "outputs": [
    {
     "data": {
      "text/plain": [
       "['D', 'H']"
      ]
     },
     "execution_count": 38,
     "metadata": {},
     "output_type": "execute_result"
    }
   ],
   "source": [
    "table_suites\n",
    "hand_suites"
   ]
  },
  {
   "cell_type": "code",
   "execution_count": 53,
   "id": "1cd8ebca",
   "metadata": {},
   "outputs": [],
   "source": [
    "#Short solution\n",
    "from collections import Counter\n",
    "counts = Counter(total_suits)"
   ]
  },
  {
   "cell_type": "code",
   "execution_count": 61,
   "id": "3f4d2c14",
   "metadata": {},
   "outputs": [],
   "source": [
    "is_flush = counts.most_common(1)[0][1] >= 5\n"
   ]
  },
  {
   "cell_type": "code",
   "execution_count": 41,
   "id": "b01fba25",
   "metadata": {},
   "outputs": [],
   "source": [
    "\n",
    "counter = dict()\n",
    "for suit in total_suits:\n",
    "    if suit not in counter:\n",
    "        counter[suit] = 1\n",
    "    else:\n",
    "        counter[suit]+= 1\n",
    "        \n",
    " \n",
    "\n",
    "    "
   ]
  },
  {
   "cell_type": "code",
   "execution_count": 39,
   "id": "724e2313",
   "metadata": {},
   "outputs": [],
   "source": [
    "total_suits = table_suites + hand_suites"
   ]
  },
  {
   "cell_type": "code",
   "execution_count": 46,
   "id": "35d12944",
   "metadata": {},
   "outputs": [
    {
     "name": "stdout",
     "output_type": "stream",
     "text": [
      "S 1\n",
      "H 2\n",
      "D 4\n"
     ]
    }
   ],
   "source": [
    "is_flush = False\n",
    "for k,v in counter.items():\n",
    "    print(k,v)\n",
    "    if v >= 5:\n",
    "        print(f\"Flush! by %s!\"%k)\n",
    "        is_flush = True\n",
    "        break\n",
    "        "
   ]
  },
  {
   "cell_type": "code",
   "execution_count": 45,
   "id": "f99e42ab",
   "metadata": {},
   "outputs": [
    {
     "name": "stdout",
     "output_type": "stream",
     "text": [
      "No Flush!\n"
     ]
    }
   ],
   "source": [
    "if not is_flush:\n",
    "    print(\"No Flush!\")"
   ]
  },
  {
   "cell_type": "markdown",
   "id": "82841c15",
   "metadata": {},
   "source": [
    "# Palindrome"
   ]
  },
  {
   "cell_type": "markdown",
   "id": "f28b9e05",
   "metadata": {},
   "source": [
    "На вход подаётся число. Определить является ли оно палиндромом. Число является палиндромом если прочитанное справа налево равно исходному числу.\n",
    "\n",
    "Примеры:\n",
    "\n",
    "121 - палиндром\n",
    "\n",
    "222 - палиндром\n",
    "\n",
    "321 - не палиндром\n",
    "\n",
    "1212 - не палиндром\n",
    "\n",
    "12121 - палиндром\n",
    "\n",
    "и так далее...\n",
    "\n",
    "Важное требование:  запрещается исходное число конвертировать в строку и применять к ней функцию реверсирования. Проверку требуется проводить применяя математические операции к исходному числу!\n",
    "\n",
    "Подсказки: \n",
    "\n",
    "number % 10 позволяет взять цифру последнего разряда\n",
    "\n",
    "number * 10 позволяет добавить разряд к числу\n",
    "\n",
    "number // 10 позволят отрезать последний разряд от числа\n",
    "\n",
    "Если число является палиндромом, вывести на консоль 'Palindrome', иначе вывести 'No Palindrome'."
   ]
  },
  {
   "cell_type": "code",
   "execution_count": 14,
   "id": "80cd51a7",
   "metadata": {},
   "outputs": [
    {
     "name": "stdout",
     "output_type": "stream",
     "text": [
      "Enter the number34\n",
      "No Palindrome\n"
     ]
    }
   ],
   "source": [
    "number = int(input('Enter the number'))\n",
    "\n",
    "reversed_number = 0\n",
    "tmp_original = number\n",
    "\n",
    "while tmp_original > 0:\n",
    "    reversed_number = (reversed_number * 10) +tmp_original % 10\n",
    "    tmp_original = tmp_original //10\n",
    "if number == reversed_number:\n",
    "    print('Palindrome')\n",
    "else:\n",
    "    print(\"No Palindrome\")"
   ]
  },
  {
   "cell_type": "code",
   "execution_count": 15,
   "id": "10dcf597",
   "metadata": {},
   "outputs": [],
   "source": [
    "a = str (number)"
   ]
  },
  {
   "cell_type": "code",
   "execution_count": 16,
   "id": "5449c279",
   "metadata": {},
   "outputs": [],
   "source": [
    "b = a[::-1]"
   ]
  },
  {
   "cell_type": "code",
   "execution_count": 19,
   "id": "f1348d94",
   "metadata": {},
   "outputs": [
    {
     "data": {
      "text/plain": [
       "False"
      ]
     },
     "execution_count": 19,
     "metadata": {},
     "output_type": "execute_result"
    }
   ],
   "source": [
    "a == b"
   ]
  },
  {
   "cell_type": "code",
   "execution_count": null,
   "id": "ea2c44ea",
   "metadata": {},
   "outputs": [],
   "source": []
  },
  {
   "cell_type": "code",
   "execution_count": null,
   "id": "b15b65b1",
   "metadata": {},
   "outputs": [],
   "source": []
  }
 ],
 "metadata": {
  "kernelspec": {
   "display_name": "Python 3 (ipykernel)",
   "language": "python",
   "name": "python3"
  },
  "language_info": {
   "codemirror_mode": {
    "name": "ipython",
    "version": 3
   },
   "file_extension": ".py",
   "mimetype": "text/x-python",
   "name": "python",
   "nbconvert_exporter": "python",
   "pygments_lexer": "ipython3",
   "version": "3.9.7"
  }
 },
 "nbformat": 4,
 "nbformat_minor": 5
}
