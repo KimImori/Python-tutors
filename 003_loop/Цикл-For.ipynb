{
 "cells": [
  {
   "cell_type": "code",
   "execution_count": 1,
   "id": "86e000a7",
   "metadata": {},
   "outputs": [
    {
     "name": "stdout",
     "output_type": "stream",
     "text": [
      "[1, 2, 3, 4, 5]\n"
     ]
    }
   ],
   "source": [
    "numbers = [1,2,3,4,5]\n",
    "print(numbers)"
   ]
  },
  {
   "cell_type": "code",
   "execution_count": 2,
   "id": "e70900ec",
   "metadata": {},
   "outputs": [
    {
     "name": "stdout",
     "output_type": "stream",
     "text": [
      "1\n",
      "2\n",
      "3\n",
      "4\n",
      "5\n"
     ]
    }
   ],
   "source": [
    "for i in numbers:\n",
    "    print(i)"
   ]
  },
  {
   "cell_type": "code",
   "execution_count": 3,
   "id": "2cced90a",
   "metadata": {},
   "outputs": [
    {
     "name": "stdout",
     "output_type": "stream",
     "text": [
      "1\n",
      "4\n",
      "9\n",
      "16\n",
      "25\n"
     ]
    }
   ],
   "source": [
    "for i in numbers:\n",
    "    print(i*i)"
   ]
  },
  {
   "cell_type": "code",
   "execution_count": 13,
   "id": "87f6239a",
   "metadata": {},
   "outputs": [
    {
     "name": "stdout",
     "output_type": "stream",
     "text": [
      "1is odd\n",
      "2 is even\n",
      "3is odd\n",
      "4 is even\n",
      "5is odd\n"
     ]
    }
   ],
   "source": [
    "for i in range(1,6):\n",
    "    if i % 2 == 0:\n",
    "        print(f'{i} is even')\n",
    "    else:\n",
    "            print(f'{i}is odd')"
   ]
  },
  {
   "cell_type": "code",
   "execution_count": 18,
   "id": "ce4b2444",
   "metadata": {},
   "outputs": [
    {
     "data": {
      "text/plain": [
       "[32, 64, 96, 128, 160]"
      ]
     },
     "execution_count": 18,
     "metadata": {},
     "output_type": "execute_result"
    }
   ],
   "source": [
    "number = [1,3,5,7,9]\n",
    "for i, item in enumerate(numbers):\n",
    "    numbers[i]*= 2\n",
    "numbers"
   ]
  },
  {
   "cell_type": "code",
   "execution_count": 19,
   "id": "165c225d",
   "metadata": {},
   "outputs": [
    {
     "name": "stdout",
     "output_type": "stream",
     "text": [
      "Alarm!\n",
      "Alarm!\n",
      "Alarm!\n",
      "Alarm!\n",
      "Alarm!\n"
     ]
    }
   ],
   "source": [
    "for _ in range(5):\n",
    "    print('Alarm!')"
   ]
  },
  {
   "cell_type": "code",
   "execution_count": 20,
   "id": "ac787959",
   "metadata": {},
   "outputs": [],
   "source": [
    "#find all pairs sum of which equals 0"
   ]
  },
  {
   "cell_type": "code",
   "execution_count": 22,
   "id": "292afcfa",
   "metadata": {},
   "outputs": [
    {
     "data": {
      "text/plain": [
       "[(2, -2), (-5, 5), (6, -6), (-2, 2)]"
      ]
     },
     "execution_count": 22,
     "metadata": {},
     "output_type": "execute_result"
    }
   ],
   "source": [
    "list1 = [2,4,-5,6,8,-2]\n",
    "list2 = [2,-6,8,3,5,-2]\n",
    "pairs = []\n",
    "for x  in list1:\n",
    "    for y in list2:\n",
    "        cur_sum = x+y\n",
    "        if cur_sum == 0:\n",
    "            pairs.append((x,y))\n",
    "pairs"
   ]
  },
  {
   "cell_type": "code",
   "execution_count": null,
   "id": "19c8d174",
   "metadata": {},
   "outputs": [],
   "source": []
  }
 ],
 "metadata": {
  "kernelspec": {
   "display_name": "Python 3 (ipykernel)",
   "language": "python",
   "name": "python3"
  },
  "language_info": {
   "codemirror_mode": {
    "name": "ipython",
    "version": 3
   },
   "file_extension": ".py",
   "mimetype": "text/x-python",
   "name": "python",
   "nbconvert_exporter": "python",
   "pygments_lexer": "ipython3",
   "version": "3.9.7"
  }
 },
 "nbformat": 4,
 "nbformat_minor": 5
}
