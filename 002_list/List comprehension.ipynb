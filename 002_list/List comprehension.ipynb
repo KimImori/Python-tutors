{
 "cells": [
  {
   "cell_type": "code",
   "execution_count": 1,
   "id": "331e99fa",
   "metadata": {},
   "outputs": [
    {
     "data": {
      "text/plain": [
       "['H', 'e', 'l', 'l', 'o', ' ', 'w', 'o', 'r', 'l', 'd']"
      ]
     },
     "execution_count": 1,
     "metadata": {},
     "output_type": "execute_result"
    }
   ],
   "source": [
    "greeting = \"Hello world\"\n",
    "chars = []\n",
    "for l in greeting:\n",
    "    chars.append(l)\n",
    "chars"
   ]
  },
  {
   "cell_type": "code",
   "execution_count": 2,
   "id": "cddd821d",
   "metadata": {},
   "outputs": [
    {
     "data": {
      "text/plain": [
       "['H', 'e', 'l', 'l', 'o', ' ', 'w', 'o', 'r', 'l', 'd']"
      ]
     },
     "execution_count": 2,
     "metadata": {},
     "output_type": "execute_result"
    }
   ],
   "source": [
    "chars = [l for l in greeting]\n",
    "chars"
   ]
  },
  {
   "cell_type": "code",
   "execution_count": 3,
   "id": "b89603f3",
   "metadata": {},
   "outputs": [
    {
     "data": {
      "text/plain": [
       "[0, 1, 2, 3, 4, 5, 6, 7, 8, 9, 10]"
      ]
     },
     "execution_count": 3,
     "metadata": {},
     "output_type": "execute_result"
    }
   ],
   "source": [
    "numbers = [n for n in range(0, 11)]\n",
    "numbers"
   ]
  },
  {
   "cell_type": "code",
   "execution_count": 4,
   "id": "44a4a379",
   "metadata": {},
   "outputs": [
    {
     "data": {
      "text/plain": [
       "[0, 1, 4, 9, 16, 25, 36, 49, 64, 81, 100]"
      ]
     },
     "execution_count": 4,
     "metadata": {},
     "output_type": "execute_result"
    }
   ],
   "source": [
    "numbers = [n*n for n in range(0, 11)]\n",
    "numbers"
   ]
  },
  {
   "cell_type": "code",
   "execution_count": 6,
   "id": "cf1212c0",
   "metadata": {},
   "outputs": [
    {
     "data": {
      "text/plain": [
       "[1, 9, 25, 49, 81]"
      ]
     },
     "execution_count": 6,
     "metadata": {},
     "output_type": "execute_result"
    }
   ],
   "source": [
    "numbers = [n*n for n in range(0, 11) if n%2!=0]\n",
    "numbers"
   ]
  },
  {
   "cell_type": "code",
   "execution_count": 7,
   "id": "1baef3d9",
   "metadata": {},
   "outputs": [
    {
     "data": {
      "text/plain": [
       "[4.72, 52.76, 22.05, 30.71, 25.59]"
      ]
     },
     "execution_count": 7,
     "metadata": {},
     "output_type": "execute_result"
    }
   ],
   "source": [
    "len_in_centimeters = [12,134,56,78,65]\n",
    "len_in_inches = [(round(cm / 2.54, 2)) for cm in len_in_centimeters]\n",
    "len_in_inches"
   ]
  },
  {
   "cell_type": "code",
   "execution_count": 11,
   "id": "f08e2b39",
   "metadata": {},
   "outputs": [
    {
     "data": {
      "text/plain": [
       "[(2, -2), (2, -2), (5, -5)]"
      ]
     },
     "execution_count": 11,
     "metadata": {},
     "output_type": "execute_result"
    }
   ],
   "source": [
    "list1 = [2,-2,5,-5,8,6]\n",
    "list2 = [-2,4,-5,6,8,-2]\n",
    "pairs = [(x,y) for x in list1 for y in list2 if x+y==0]\n",
    "pairs"
   ]
  },
  {
   "cell_type": "code",
   "execution_count": null,
   "id": "f785def7",
   "metadata": {},
   "outputs": [],
   "source": []
  }
 ],
 "metadata": {
  "kernelspec": {
   "display_name": "Python 3 (ipykernel)",
   "language": "python",
   "name": "python3"
  },
  "language_info": {
   "codemirror_mode": {
    "name": "ipython",
    "version": 3
   },
   "file_extension": ".py",
   "mimetype": "text/x-python",
   "name": "python",
   "nbconvert_exporter": "python",
   "pygments_lexer": "ipython3",
   "version": "3.9.7"
  }
 },
 "nbformat": 4,
 "nbformat_minor": 5
}
