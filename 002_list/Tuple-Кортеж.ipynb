{
 "cells": [
  {
   "cell_type": "code",
   "execution_count": 2,
   "id": "751dc21f",
   "metadata": {},
   "outputs": [],
   "source": [
    "strings = ('str1', 'str2', 'str3')\n",
    "#strings[0] = \"str0\""
   ]
  },
  {
   "cell_type": "code",
   "execution_count": 3,
   "id": "535d7df9",
   "metadata": {},
   "outputs": [
    {
     "data": {
      "text/plain": [
       "tuple"
      ]
     },
     "execution_count": 3,
     "metadata": {},
     "output_type": "execute_result"
    }
   ],
   "source": [
    "person = ('John', 'Silver', 22)\n",
    "type(person)"
   ]
  },
  {
   "cell_type": "code",
   "execution_count": 4,
   "id": "fc8b5f28",
   "metadata": {},
   "outputs": [],
   "source": [
    "#Лекция namedtuple"
   ]
  },
  {
   "cell_type": "code",
   "execution_count": 8,
   "id": "42c8da26",
   "metadata": {},
   "outputs": [],
   "source": [
    "from collections import namedtuple\n"
   ]
  },
  {
   "cell_type": "code",
   "execution_count": 6,
   "id": "52a62fc3",
   "metadata": {},
   "outputs": [],
   "source": [
    "Player = namedtuple('Player', 'name age rating')"
   ]
  },
  {
   "cell_type": "code",
   "execution_count": 9,
   "id": "361e2e3b",
   "metadata": {},
   "outputs": [],
   "source": [
    "#players = [Player('Carlsen', 1990, 2482), Player('Caruana, 1994, 2765'), Player('Mamedyarov, 1987, 2475')]"
   ]
  },
  {
   "cell_type": "code",
   "execution_count": null,
   "id": "4e6645be",
   "metadata": {},
   "outputs": [],
   "source": []
  }
 ],
 "metadata": {
  "kernelspec": {
   "display_name": "Python 3 (ipykernel)",
   "language": "python",
   "name": "python3"
  },
  "language_info": {
   "codemirror_mode": {
    "name": "ipython",
    "version": 3
   },
   "file_extension": ".py",
   "mimetype": "text/x-python",
   "name": "python",
   "nbconvert_exporter": "python",
   "pygments_lexer": "ipython3",
   "version": "3.9.7"
  }
 },
 "nbformat": 4,
 "nbformat_minor": 5
}
