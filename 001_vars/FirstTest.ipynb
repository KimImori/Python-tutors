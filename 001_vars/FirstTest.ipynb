{
 "cells": [
  {
   "cell_type": "code",
   "execution_count": 1,
   "id": "8911e649",
   "metadata": {},
   "outputs": [],
   "source": [
    "x=\"Hello, my name is Dan\""
   ]
  },
  {
   "cell_type": "code",
   "execution_count": 2,
   "id": "9e8f43d8",
   "metadata": {},
   "outputs": [
    {
     "data": {
      "text/plain": [
       "21"
      ]
     },
     "execution_count": 2,
     "metadata": {},
     "output_type": "execute_result"
    }
   ],
   "source": [
    "len(x)"
   ]
  },
  {
   "cell_type": "code",
   "execution_count": 3,
   "id": "954d44ee",
   "metadata": {},
   "outputs": [
    {
     "data": {
      "text/plain": [
       "2"
      ]
     },
     "execution_count": 3,
     "metadata": {},
     "output_type": "execute_result"
    }
   ],
   "source": [
    "x.count(\"l\")"
   ]
  },
  {
   "cell_type": "code",
   "execution_count": 4,
   "id": "cb53c7ed",
   "metadata": {},
   "outputs": [
    {
     "data": {
      "text/plain": [
       "'n'"
      ]
     },
     "execution_count": 4,
     "metadata": {},
     "output_type": "execute_result"
    }
   ],
   "source": [
    "x[len(x)-1]"
   ]
  },
  {
   "cell_type": "code",
   "execution_count": 5,
   "id": "607521fa",
   "metadata": {},
   "outputs": [
    {
     "data": {
      "text/plain": [
       "'Hello, my name is dan'"
      ]
     },
     "execution_count": 5,
     "metadata": {},
     "output_type": "execute_result"
    }
   ],
   "source": [
    "x.capitalize()"
   ]
  },
  {
   "cell_type": "code",
   "execution_count": 6,
   "id": "ceae6220",
   "metadata": {},
   "outputs": [
    {
     "name": "stdout",
     "output_type": "stream",
     "text": [
      "HELLO, MY NAME IS DAN\n"
     ]
    }
   ],
   "source": [
    "upper_cased =x.upper()\n",
    "print(upper_cased)\n"
   ]
  },
  {
   "cell_type": "code",
   "execution_count": 8,
   "id": "9fe00ebb",
   "metadata": {},
   "outputs": [
    {
     "name": "stdout",
     "output_type": "stream",
     "text": [
      "2\n"
     ]
    }
   ],
   "source": [
    "print(x.find (\"l\"))"
   ]
  },
  {
   "cell_type": "code",
   "execution_count": 9,
   "id": "7e1d938c",
   "metadata": {},
   "outputs": [
    {
     "name": "stdout",
     "output_type": "stream",
     "text": [
      "-1\n"
     ]
    }
   ],
   "source": [
    "print(x.find (\"l, 5\"))"
   ]
  },
  {
   "cell_type": "code",
   "execution_count": 10,
   "id": "fec87919",
   "metadata": {},
   "outputs": [
    {
     "name": "stdout",
     "output_type": "stream",
     "text": [
      "True\n"
     ]
    }
   ],
   "source": [
    "print('123abc'.isalnum())"
   ]
  },
  {
   "cell_type": "code",
   "execution_count": 12,
   "id": "6fb15695",
   "metadata": {},
   "outputs": [
    {
     "name": "stdout",
     "output_type": "stream",
     "text": [
      "True\n"
     ]
    }
   ],
   "source": [
    "empty_string = \" \"\n",
    "print(empty_string.strip(' ') == \"\")"
   ]
  },
  {
   "cell_type": "code",
   "execution_count": 15,
   "id": "d5b9fde5",
   "metadata": {},
   "outputs": [
    {
     "name": "stdout",
     "output_type": "stream",
     "text": [
      "True\n",
      "True\n"
     ]
    }
   ],
   "source": [
    "h =\"hello\"\n",
    "print(h.startswith('he'))\n",
    "print(h.endswith(\"lo\"))"
   ]
  },
  {
   "cell_type": "code",
   "execution_count": 16,
   "id": "082fc409",
   "metadata": {},
   "outputs": [
    {
     "name": "stdout",
     "output_type": "stream",
     "text": [
      "['he', '', 'o']\n"
     ]
    }
   ],
   "source": [
    "split = h.split('l')\n",
    "print(split)"
   ]
  },
  {
   "cell_type": "code",
   "execution_count": 18,
   "id": "3bcba3dc",
   "metadata": {},
   "outputs": [
    {
     "name": "stdout",
     "output_type": "stream",
     "text": [
      "My name is Dan\n"
     ]
    }
   ],
   "source": [
    "print(\"My name is {}\".format('Dan'))"
   ]
  },
  {
   "cell_type": "code",
   "execution_count": 21,
   "id": "74672a0e",
   "metadata": {},
   "outputs": [
    {
     "name": "stdout",
     "output_type": "stream",
     "text": [
      "My name is Dan and I'm 20\n"
     ]
    }
   ],
   "source": [
    "name =\"Dan\"\n",
    "age = \"20\"\n",
    "print(f\"My name is {name} and I'm {age}\")"
   ]
  },
  {
   "cell_type": "code",
   "execution_count": 24,
   "id": "bb4e3224",
   "metadata": {},
   "outputs": [
    {
     "name": "stdout",
     "output_type": "stream",
     "text": [
      "True\n"
     ]
    }
   ],
   "source": [
    "x = \"String\"\n",
    "y = \"string\"\n",
    "print(x.lower() == y.lower())\n"
   ]
  },
  {
   "cell_type": "code",
   "execution_count": 25,
   "id": "ad212328",
   "metadata": {},
   "outputs": [
    {
     "name": "stdout",
     "output_type": "stream",
     "text": [
      "not an admin\n"
     ]
    }
   ],
   "source": [
    "is_admin = False\n",
    "if not is_admin:\n",
    "    print(\"not an admin\")"
   ]
  },
  {
   "cell_type": "code",
   "execution_count": 26,
   "id": "0d94987f",
   "metadata": {},
   "outputs": [
    {
     "name": "stdout",
     "output_type": "stream",
     "text": [
      "Writing sample.txt\n"
     ]
    }
   ],
   "source": [
    "%%writefile sample.txt\n",
    "Name|Phone\n",
    "John;8657\n",
    "Bob;2367\n",
    "Suzan;9043"
   ]
  },
  {
   "cell_type": "code",
   "execution_count": 27,
   "id": "ae2a3a00",
   "metadata": {},
   "outputs": [],
   "source": [
    "file =open('sample.txt')"
   ]
  },
  {
   "cell_type": "code",
   "execution_count": 28,
   "id": "14f8fb14",
   "metadata": {},
   "outputs": [
    {
     "data": {
      "text/plain": [
       "'Name|Phone\\nJohn;8657\\nBob;2367\\nSuzan;9043\\n'"
      ]
     },
     "execution_count": 28,
     "metadata": {},
     "output_type": "execute_result"
    }
   ],
   "source": [
    "data = file.read()\n",
    "data"
   ]
  },
  {
   "cell_type": "code",
   "execution_count": 30,
   "id": "e0e7f63a",
   "metadata": {},
   "outputs": [
    {
     "ename": "AttributeError",
     "evalue": "'_io.TextIOWrapper' object has no attribute 'sekk'",
     "output_type": "error",
     "traceback": [
      "\u001b[1;31m---------------------------------------------------------------------------\u001b[0m",
      "\u001b[1;31mAttributeError\u001b[0m                            Traceback (most recent call last)",
      "\u001b[1;32m~\\AppData\\Local\\Temp/ipykernel_8672/2032920841.py\u001b[0m in \u001b[0;36m<module>\u001b[1;34m\u001b[0m\n\u001b[1;32m----> 1\u001b[1;33m \u001b[0mfile\u001b[0m\u001b[1;33m.\u001b[0m\u001b[0msekk\u001b[0m\u001b[1;33m(\u001b[0m\u001b[1;36m0\u001b[0m\u001b[1;33m)\u001b[0m\u001b[1;33m\u001b[0m\u001b[1;33m\u001b[0m\u001b[0m\n\u001b[0m\u001b[0;32m      2\u001b[0m \u001b[0mprint\u001b[0m\u001b[1;33m(\u001b[0m\u001b[0mfile\u001b[0m\u001b[1;33m.\u001b[0m\u001b[0mread\u001b[0m\u001b[1;33m(\u001b[0m\u001b[1;33m)\u001b[0m\u001b[1;33m)\u001b[0m\u001b[1;33m\u001b[0m\u001b[1;33m\u001b[0m\u001b[0m\n",
      "\u001b[1;31mAttributeError\u001b[0m: '_io.TextIOWrapper' object has no attribute 'sekk'"
     ]
    }
   ],
   "source": [
    "file.sekk(0)\n",
    "print(file.read())\n"
   ]
  },
  {
   "cell_type": "code",
   "execution_count": 31,
   "id": "a3ee6bd8",
   "metadata": {},
   "outputs": [
    {
     "name": "stdout",
     "output_type": "stream",
     "text": [
      "\n"
     ]
    }
   ],
   "source": [
    "print(file.read())\n"
   ]
  },
  {
   "cell_type": "code",
   "execution_count": 32,
   "id": "51ccb9c2",
   "metadata": {},
   "outputs": [
    {
     "name": "stdout",
     "output_type": "stream",
     "text": [
      "Name|Phone\n",
      "John;8657\n",
      "Bob;2367\n",
      "Suzan;9043\n",
      "\n"
     ]
    }
   ],
   "source": [
    "file.seek(0)\n",
    "print(file.read())\n"
   ]
  },
  {
   "cell_type": "code",
   "execution_count": 33,
   "id": "2c4c908f",
   "metadata": {},
   "outputs": [],
   "source": [
    "#with open('sample.txt') as sample_file:"
   ]
  },
  {
   "cell_type": "code",
   "execution_count": 34,
   "id": "2802bcba",
   "metadata": {},
   "outputs": [],
   "source": [
    "file.seek?"
   ]
  },
  {
   "cell_type": "code",
   "execution_count": null,
   "id": "f8ebd9ce",
   "metadata": {},
   "outputs": [],
   "source": []
  }
 ],
 "metadata": {
  "kernelspec": {
   "display_name": "Python 3 (ipykernel)",
   "language": "python",
   "name": "python3"
  },
  "language_info": {
   "codemirror_mode": {
    "name": "ipython",
    "version": 3
   },
   "file_extension": ".py",
   "mimetype": "text/x-python",
   "name": "python",
   "nbconvert_exporter": "python",
   "pygments_lexer": "ipython3",
   "version": "3.9.7"
  }
 },
 "nbformat": 4,
 "nbformat_minor": 5
}
