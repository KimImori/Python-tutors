{
 "cells": [
  {
   "cell_type": "code",
   "execution_count": 1,
   "id": "86c3badc",
   "metadata": {},
   "outputs": [],
   "source": [
    "x=\"Hello, my name is Dan\""
   ]
  },
  {
   "cell_type": "code",
   "execution_count": 2,
   "id": "fd287c08",
   "metadata": {},
   "outputs": [
    {
     "data": {
      "text/plain": [
       "21"
      ]
     },
     "execution_count": 2,
     "metadata": {},
     "output_type": "execute_result"
    }
   ],
   "source": [
    "len(x)"
   ]
  },
  {
   "cell_type": "code",
   "execution_count": 3,
   "id": "f29c427c",
   "metadata": {},
   "outputs": [
    {
     "data": {
      "text/plain": [
       "2"
      ]
     },
     "execution_count": 3,
     "metadata": {},
     "output_type": "execute_result"
    }
   ],
   "source": [
    "x.count(\"l\")"
   ]
  },
  {
   "cell_type": "code",
   "execution_count": 4,
   "id": "7a1224f1",
   "metadata": {},
   "outputs": [
    {
     "data": {
      "text/plain": [
       "'n'"
      ]
     },
     "execution_count": 4,
     "metadata": {},
     "output_type": "execute_result"
    }
   ],
   "source": [
    "x[len(x)-1]"
   ]
  },
  {
   "cell_type": "code",
   "execution_count": 5,
   "id": "5bc2ee4f",
   "metadata": {},
   "outputs": [
    {
     "data": {
      "text/plain": [
       "'Hello, my name is dan'"
      ]
     },
     "execution_count": 5,
     "metadata": {},
     "output_type": "execute_result"
    }
   ],
   "source": [
    "x.capitalize()"
   ]
  },
  {
   "cell_type": "code",
   "execution_count": 6,
   "id": "bf334d7b",
   "metadata": {},
   "outputs": [
    {
     "name": "stdout",
     "output_type": "stream",
     "text": [
      "HELLO, MY NAME IS DAN\n"
     ]
    }
   ],
   "source": [
    "upper_cased =x.upper()\n",
    "print(upper_cased)\n"
   ]
  },
  {
   "cell_type": "code",
   "execution_count": 8,
   "id": "95320302",
   "metadata": {},
   "outputs": [
    {
     "name": "stdout",
     "output_type": "stream",
     "text": [
      "2\n"
     ]
    }
   ],
   "source": [
    "print(x.find (\"l\"))"
   ]
  },
  {
   "cell_type": "code",
   "execution_count": 9,
   "id": "110018e9",
   "metadata": {},
   "outputs": [
    {
     "name": "stdout",
     "output_type": "stream",
     "text": [
      "-1\n"
     ]
    }
   ],
   "source": [
    "print(x.find (\"l, 5\"))"
   ]
  },
  {
   "cell_type": "code",
   "execution_count": 10,
   "id": "56dd944c",
   "metadata": {},
   "outputs": [
    {
     "name": "stdout",
     "output_type": "stream",
     "text": [
      "True\n"
     ]
    }
   ],
   "source": [
    "print('123abc'.isalnum())"
   ]
  },
  {
   "cell_type": "code",
   "execution_count": 12,
   "id": "a1c327fe",
   "metadata": {},
   "outputs": [
    {
     "name": "stdout",
     "output_type": "stream",
     "text": [
      "True\n"
     ]
    }
   ],
   "source": [
    "empty_string = \" \"\n",
    "print(empty_string.strip(' ') == \"\")"
   ]
  },
  {
   "cell_type": "code",
   "execution_count": 15,
   "id": "b220924e",
   "metadata": {},
   "outputs": [
    {
     "name": "stdout",
     "output_type": "stream",
     "text": [
      "True\n",
      "True\n"
     ]
    }
   ],
   "source": [
    "h =\"hello\"\n",
    "print(h.startswith('he'))\n",
    "print(h.endswith(\"lo\"))"
   ]
  },
  {
   "cell_type": "code",
   "execution_count": 16,
   "id": "ff0fb2b6",
   "metadata": {},
   "outputs": [
    {
     "name": "stdout",
     "output_type": "stream",
     "text": [
      "['he', '', 'o']\n"
     ]
    }
   ],
   "source": [
    "split = h.split('l')\n",
    "print(split)"
   ]
  },
  {
   "cell_type": "code",
   "execution_count": 18,
   "id": "a59e2fc4",
   "metadata": {},
   "outputs": [
    {
     "name": "stdout",
     "output_type": "stream",
     "text": [
      "My name is Dan\n"
     ]
    }
   ],
   "source": [
    "print(\"My name is {}\".format('Dan'))"
   ]
  },
  {
   "cell_type": "code",
   "execution_count": 21,
   "id": "b5d33330",
   "metadata": {},
   "outputs": [
    {
     "name": "stdout",
     "output_type": "stream",
     "text": [
      "My name is Dan and I'm 20\n"
     ]
    }
   ],
   "source": [
    "name =\"Dan\"\n",
    "age = \"20\"\n",
    "print(f\"My name is {name} and I'm {age}\")"
   ]
  },
  {
   "cell_type": "code",
   "execution_count": 24,
   "id": "c0a7abb5",
   "metadata": {},
   "outputs": [
    {
     "name": "stdout",
     "output_type": "stream",
     "text": [
      "True\n"
     ]
    }
   ],
   "source": [
    "x = \"String\"\n",
    "y = \"string\"\n",
    "print(x.lower() == y.lower())\n"
   ]
  },
  {
   "cell_type": "code",
   "execution_count": 25,
   "id": "d523a6f9",
   "metadata": {},
   "outputs": [
    {
     "name": "stdout",
     "output_type": "stream",
     "text": [
      "not an admin\n"
     ]
    }
   ],
   "source": [
    "is_admin = False\n",
    "if not is_admin:\n",
    "    print(\"not an admin\")"
   ]
  },
  {
   "cell_type": "code",
   "execution_count": 26,
   "id": "bfbb9b86",
   "metadata": {},
   "outputs": [
    {
     "name": "stdout",
     "output_type": "stream",
     "text": [
      "Writing sample.txt\n"
     ]
    }
   ],
   "source": [
    "%%writefile sample.txt\n",
    "Name|Phone\n",
    "John;8657\n",
    "Bob;2367\n",
    "Suzan;9043"
   ]
  },
  {
   "cell_type": "code",
   "execution_count": 27,
   "id": "fff9ed51",
   "metadata": {},
   "outputs": [],
   "source": [
    "file =open('sample.txt')"
   ]
  },
  {
   "cell_type": "code",
   "execution_count": 28,
   "id": "834eba36",
   "metadata": {},
   "outputs": [
    {
     "data": {
      "text/plain": [
       "'Name|Phone\\nJohn;8657\\nBob;2367\\nSuzan;9043\\n'"
      ]
     },
     "execution_count": 28,
     "metadata": {},
     "output_type": "execute_result"
    }
   ],
   "source": [
    "data = file.read()\n",
    "data"
   ]
  },
  {
   "cell_type": "code",
   "execution_count": 30,
   "id": "c6f4f2df",
   "metadata": {},
   "outputs": [
    {
     "ename": "AttributeError",
     "evalue": "'_io.TextIOWrapper' object has no attribute 'sekk'",
     "output_type": "error",
     "traceback": [
      "\u001b[1;31m---------------------------------------------------------------------------\u001b[0m",
      "\u001b[1;31mAttributeError\u001b[0m                            Traceback (most recent call last)",
      "\u001b[1;32m~\\AppData\\Local\\Temp/ipykernel_8672/2032920841.py\u001b[0m in \u001b[0;36m<module>\u001b[1;34m\u001b[0m\n\u001b[1;32m----> 1\u001b[1;33m \u001b[0mfile\u001b[0m\u001b[1;33m.\u001b[0m\u001b[0msekk\u001b[0m\u001b[1;33m(\u001b[0m\u001b[1;36m0\u001b[0m\u001b[1;33m)\u001b[0m\u001b[1;33m\u001b[0m\u001b[1;33m\u001b[0m\u001b[0m\n\u001b[0m\u001b[0;32m      2\u001b[0m \u001b[0mprint\u001b[0m\u001b[1;33m(\u001b[0m\u001b[0mfile\u001b[0m\u001b[1;33m.\u001b[0m\u001b[0mread\u001b[0m\u001b[1;33m(\u001b[0m\u001b[1;33m)\u001b[0m\u001b[1;33m)\u001b[0m\u001b[1;33m\u001b[0m\u001b[1;33m\u001b[0m\u001b[0m\n",
      "\u001b[1;31mAttributeError\u001b[0m: '_io.TextIOWrapper' object has no attribute 'sekk'"
     ]
    }
   ],
   "source": [
    "file.sekk(0)\n",
    "print(file.read())\n"
   ]
  },
  {
   "cell_type": "code",
   "execution_count": 31,
   "id": "15166bb0",
   "metadata": {},
   "outputs": [
    {
     "name": "stdout",
     "output_type": "stream",
     "text": [
      "\n"
     ]
    }
   ],
   "source": [
    "print(file.read())\n"
   ]
  },
  {
   "cell_type": "code",
   "execution_count": 32,
   "id": "258385b7",
   "metadata": {},
   "outputs": [
    {
     "name": "stdout",
     "output_type": "stream",
     "text": [
      "Name|Phone\n",
      "John;8657\n",
      "Bob;2367\n",
      "Suzan;9043\n",
      "\n"
     ]
    }
   ],
   "source": [
    "file.seek(0)\n",
    "print(file.read())"
   ]
  },
  {
   "cell_type": "code",
   "execution_count": 33,
   "id": "ae521451",
   "metadata": {},
   "outputs": [],
   "source": [
    "#with open('sample.txt') as sample_file:"
   ]
  },
  {
   "cell_type": "code",
   "execution_count": null,
   "id": "a9988859",
   "metadata": {},
   "outputs": [],
   "source": []
  }
 ],
 "metadata": {
  "kernelspec": {
   "display_name": "Python 3 (ipykernel)",
   "language": "python",
   "name": "python3"
  },
  "language_info": {
   "codemirror_mode": {
    "name": "ipython",
    "version": 3
   },
   "file_extension": ".py",
   "mimetype": "text/x-python",
   "name": "python",
   "nbconvert_exporter": "python",
   "pygments_lexer": "ipython3",
   "version": "3.9.7"
  }
 },
 "nbformat": 4,
 "nbformat_minor": 5
}
