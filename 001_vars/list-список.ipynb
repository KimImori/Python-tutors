{
 "cells": [
  {
   "cell_type": "code",
   "execution_count": 1,
   "id": "251f1413",
   "metadata": {},
   "outputs": [],
   "source": [
    "int_list = [1,2,3]"
   ]
  },
  {
   "cell_type": "code",
   "execution_count": 2,
   "id": "596b4b91",
   "metadata": {},
   "outputs": [],
   "source": [
    "mixed_list = [1, 2.0, 'string']"
   ]
  },
  {
   "cell_type": "code",
   "execution_count": 3,
   "id": "d6c65a1b",
   "metadata": {},
   "outputs": [
    {
     "data": {
      "text/plain": [
       "['Bob', 'Alice', 'John', 'Suzan', 'Tracy', 'Michael']"
      ]
     },
     "execution_count": 3,
     "metadata": {},
     "output_type": "execute_result"
    }
   ],
   "source": [
    "names1 = ['Bob', 'Alice', \"John\"]\n",
    "names2 = ['Suzan', 'Tracy', 'Michael']\n",
    "names1+names2"
   ]
  },
  {
   "cell_type": "code",
   "execution_count": 4,
   "id": "857d69c9",
   "metadata": {},
   "outputs": [
    {
     "data": {
      "text/plain": [
       "['Bob', 'Alice', 'John', 'Liam']"
      ]
     },
     "execution_count": 4,
     "metadata": {},
     "output_type": "execute_result"
    }
   ],
   "source": [
    "names1.append('Liam')\n",
    "names1"
   ]
  },
  {
   "cell_type": "code",
   "execution_count": 5,
   "id": "60219567",
   "metadata": {},
   "outputs": [
    {
     "ename": "TypeError",
     "evalue": "'builtin_function_or_method' object is not subscriptable",
     "output_type": "error",
     "traceback": [
      "\u001b[1;31m---------------------------------------------------------------------------\u001b[0m",
      "\u001b[1;31mTypeError\u001b[0m                                 Traceback (most recent call last)",
      "\u001b[1;32m~\\AppData\\Local\\Temp/ipykernel_4124/1623637215.py\u001b[0m in \u001b[0;36m<module>\u001b[1;34m\u001b[0m\n\u001b[0;32m      2\u001b[0m \u001b[0mpopped\u001b[0m \u001b[1;33m=\u001b[0m \u001b[0mnames1\u001b[0m\u001b[1;33m.\u001b[0m\u001b[0mpop\u001b[0m\u001b[1;33m(\u001b[0m\u001b[1;33m)\u001b[0m\u001b[1;33m\u001b[0m\u001b[1;33m\u001b[0m\u001b[0m\n\u001b[0;32m      3\u001b[0m \u001b[1;31m#Удаление по индексу\u001b[0m\u001b[1;33m\u001b[0m\u001b[1;33m\u001b[0m\u001b[0m\n\u001b[1;32m----> 4\u001b[1;33m \u001b[0mnames1\u001b[0m\u001b[1;33m.\u001b[0m\u001b[0mpop\u001b[0m\u001b[1;33m[\u001b[0m\u001b[1;36m0\u001b[0m\u001b[1;33m]\u001b[0m\u001b[1;33m\u001b[0m\u001b[1;33m\u001b[0m\u001b[0m\n\u001b[0m",
      "\u001b[1;31mTypeError\u001b[0m: 'builtin_function_or_method' object is not subscriptable"
     ]
    }
   ],
   "source": [
    "#Функция удаления с конца списка\n",
    "popped = names1.pop()\n",
    "#Удаление по индексу \n",
    "names1.pop[0]\n"
   ]
  },
  {
   "cell_type": "code",
   "execution_count": 6,
   "id": "358377ea",
   "metadata": {},
   "outputs": [],
   "source": [
    "names1.sort()"
   ]
  },
  {
   "cell_type": "code",
   "execution_count": 8,
   "id": "674fce7a",
   "metadata": {},
   "outputs": [
    {
     "name": "stdout",
     "output_type": "stream",
     "text": [
      "['a', 'ab', 'abc']\n"
     ]
    }
   ],
   "source": [
    "letters = ['abc', 'a', 'ab']\n",
    "letters.sort(key=len)\n",
    "print(letters)"
   ]
  },
  {
   "cell_type": "code",
   "execution_count": 9,
   "id": "1fb82838",
   "metadata": {},
   "outputs": [
    {
     "name": "stdout",
     "output_type": "stream",
     "text": [
      "['ab', 'a', 'abc']\n"
     ]
    }
   ],
   "source": [
    "letters = ['abc', 'a', 'ab']\n",
    "letters.reverse()\n",
    "print(letters)"
   ]
  },
  {
   "cell_type": "code",
   "execution_count": 10,
   "id": "e443bf56",
   "metadata": {},
   "outputs": [
    {
     "name": "stdout",
     "output_type": "stream",
     "text": [
      "['abc', 'ab', 'a']\n"
     ]
    }
   ],
   "source": [
    "letters.sort(reverse=True)\n",
    "print(letters)"
   ]
  },
  {
   "cell_type": "code",
   "execution_count": 18,
   "id": "c7751d9e",
   "metadata": {},
   "outputs": [],
   "source": [
    "letters.insert(1, 22)"
   ]
  },
  {
   "cell_type": "code",
   "execution_count": 19,
   "id": "b4505452",
   "metadata": {},
   "outputs": [
    {
     "data": {
      "text/plain": [
       "['abc', 22, 22, 'ab', 'a']"
      ]
     },
     "execution_count": 19,
     "metadata": {},
     "output_type": "execute_result"
    }
   ],
   "source": [
    "letters"
   ]
  },
  {
   "cell_type": "code",
   "execution_count": 20,
   "id": "986aa194",
   "metadata": {},
   "outputs": [
    {
     "ename": "ValueError",
     "evalue": "2 is not in list",
     "output_type": "error",
     "traceback": [
      "\u001b[1;31m---------------------------------------------------------------------------\u001b[0m",
      "\u001b[1;31mValueError\u001b[0m                                Traceback (most recent call last)",
      "\u001b[1;32m~\\AppData\\Local\\Temp/ipykernel_4124/1831479698.py\u001b[0m in \u001b[0;36m<module>\u001b[1;34m\u001b[0m\n\u001b[1;32m----> 1\u001b[1;33m \u001b[0mletters\u001b[0m\u001b[1;33m.\u001b[0m\u001b[0mindex\u001b[0m\u001b[1;33m(\u001b[0m\u001b[1;36m2\u001b[0m\u001b[1;33m)\u001b[0m\u001b[1;33m\u001b[0m\u001b[1;33m\u001b[0m\u001b[0m\n\u001b[0m",
      "\u001b[1;31mValueError\u001b[0m: 2 is not in list"
     ]
    }
   ],
   "source": [
    "letters.index(2)"
   ]
  },
  {
   "cell_type": "code",
   "execution_count": 24,
   "id": "13bf3d5a",
   "metadata": {},
   "outputs": [
    {
     "name": "stdout",
     "output_type": "stream",
     "text": [
      "0\n"
     ]
    }
   ],
   "source": [
    "print(letters.count(2))"
   ]
  },
  {
   "cell_type": "code",
   "execution_count": 25,
   "id": "87f74ef5",
   "metadata": {},
   "outputs": [
    {
     "data": {
      "text/plain": [
       "['abc', 22, 22, 'ab', 'a']"
      ]
     },
     "execution_count": 25,
     "metadata": {},
     "output_type": "execute_result"
    }
   ],
   "source": [
    "letters"
   ]
  },
  {
   "cell_type": "code",
   "execution_count": 26,
   "id": "1fbf2f28",
   "metadata": {},
   "outputs": [],
   "source": [
    "letters.clear()"
   ]
  },
  {
   "cell_type": "code",
   "execution_count": null,
   "id": "e658a29a",
   "metadata": {},
   "outputs": [],
   "source": []
  }
 ],
 "metadata": {
  "kernelspec": {
   "display_name": "Python 3 (ipykernel)",
   "language": "python",
   "name": "python3"
  },
  "language_info": {
   "codemirror_mode": {
    "name": "ipython",
    "version": 3
   },
   "file_extension": ".py",
   "mimetype": "text/x-python",
   "name": "python",
   "nbconvert_exporter": "python",
   "pygments_lexer": "ipython3",
   "version": "3.9.7"
  }
 },
 "nbformat": 4,
 "nbformat_minor": 5
}
