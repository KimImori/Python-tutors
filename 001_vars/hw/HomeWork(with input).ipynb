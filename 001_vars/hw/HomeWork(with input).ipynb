{
 "cells": [
  {
   "cell_type": "code",
   "execution_count": 23,
   "id": "c966cdf8",
   "metadata": {},
   "outputs": [
    {
     "name": "stdout",
     "output_type": "stream",
     "text": [
      "Enter the number of cups300\n",
      "50\n"
     ]
    }
   ],
   "source": [
    "coffee = input('Enter the number of cups')\n",
    "cups = int(coffee)\n",
    "free_cups = int(cups / 6)\n",
    "print(free_cups)"
   ]
  },
  {
   "cell_type": "code",
   "execution_count": null,
   "id": "d63127cc",
   "metadata": {},
   "outputs": [],
   "source": []
  },
  {
   "cell_type": "code",
   "execution_count": 24,
   "id": "00b9d0d8",
   "metadata": {},
   "outputs": [
    {
     "name": "stdout",
     "output_type": "stream",
     "text": [
      "Enter value of x156\n",
      "Enter value of x278\n",
      "Enter value of y190\n",
      "Enter value of y234\n"
     ]
    }
   ],
   "source": [
    "import math\n",
    "x1 = int(input('Enter value of x1'))\n",
    "x2 = int(input('Enter value of x2'))\n",
    "y1 = int(input('Enter value of y1'))\n",
    "y2 = int(input('Enter value of y2'))\n"
   ]
  },
  {
   "cell_type": "code",
   "execution_count": 10,
   "id": "c6dc8dd2",
   "metadata": {},
   "outputs": [
    {
     "name": "stdout",
     "output_type": "stream",
     "text": [
      "38.83\n"
     ]
    }
   ],
   "source": [
    "result = math.sqrt((x2-x1)**2+(y2-y1)**2)\n",
    "print(f\"%.2f\"%result)"
   ]
  },
  {
   "cell_type": "code",
   "execution_count": 20,
   "id": "1d8a7beb",
   "metadata": {},
   "outputs": [
    {
     "name": "stdout",
     "output_type": "stream",
     "text": [
      "Enter value of chicken4\n",
      "Enter value of cow5\n",
      "Enter value of pig6\n"
     ]
    }
   ],
   "source": [
    "chicken = int(input('Enter value of chicken'))\n",
    "cow = int(input('Enter value of cow'))\n",
    "pig = int(input('Enter value of pig'))"
   ]
  },
  {
   "cell_type": "code",
   "execution_count": 21,
   "id": "323e1d49",
   "metadata": {},
   "outputs": [],
   "source": [
    "result =(chicken*2)+(cow*4)+(pig*4)"
   ]
  },
  {
   "cell_type": "code",
   "execution_count": 22,
   "id": "fe2d62cf",
   "metadata": {},
   "outputs": [
    {
     "data": {
      "text/plain": [
       "52"
      ]
     },
     "execution_count": 22,
     "metadata": {},
     "output_type": "execute_result"
    }
   ],
   "source": [
    "result"
   ]
  },
  {
   "cell_type": "code",
   "execution_count": null,
   "id": "9ef93bf8",
   "metadata": {},
   "outputs": [],
   "source": []
  }
 ],
 "metadata": {
  "kernelspec": {
   "display_name": "Python 3 (ipykernel)",
   "language": "python",
   "name": "python3"
  },
  "language_info": {
   "codemirror_mode": {
    "name": "ipython",
    "version": 3
   },
   "file_extension": ".py",
   "mimetype": "text/x-python",
   "name": "python",
   "nbconvert_exporter": "python",
   "pygments_lexer": "ipython3",
   "version": "3.9.7"
  }
 },
 "nbformat": 4,
 "nbformat_minor": 5
}
