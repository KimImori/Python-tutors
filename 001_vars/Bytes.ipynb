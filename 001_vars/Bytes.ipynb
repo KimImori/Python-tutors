{
 "cells": [
  {
   "cell_type": "code",
   "execution_count": 1,
   "id": "28e60677",
   "metadata": {},
   "outputs": [
    {
     "data": {
      "text/plain": [
       "'utf-8'"
      ]
     },
     "execution_count": 1,
     "metadata": {},
     "output_type": "execute_result"
    }
   ],
   "source": [
    "import sys\n",
    "sys.getdefaultencoding()"
   ]
  },
  {
   "cell_type": "code",
   "execution_count": 2,
   "id": "576b35a2",
   "metadata": {},
   "outputs": [
    {
     "data": {
      "text/plain": [
       "97"
      ]
     },
     "execution_count": 2,
     "metadata": {},
     "output_type": "execute_result"
    }
   ],
   "source": [
    "ord(\"a\")"
   ]
  },
  {
   "cell_type": "code",
   "execution_count": 3,
   "id": "714bf954",
   "metadata": {},
   "outputs": [
    {
     "data": {
      "text/plain": [
       "'a'"
      ]
     },
     "execution_count": 3,
     "metadata": {},
     "output_type": "execute_result"
    }
   ],
   "source": [
    "chr(97)"
   ]
  },
  {
   "cell_type": "code",
   "execution_count": 7,
   "id": "2614eeca",
   "metadata": {},
   "outputs": [],
   "source": [
    "s = \"hello\"\n",
    "enc_ascii = s.encode('ascii')\n"
   ]
  },
  {
   "cell_type": "code",
   "execution_count": 8,
   "id": "4c053704",
   "metadata": {},
   "outputs": [],
   "source": [
    "str_in_bytes = b\"hello\"\n"
   ]
  },
  {
   "cell_type": "code",
   "execution_count": 10,
   "id": "919fc5d1",
   "metadata": {},
   "outputs": [
    {
     "data": {
      "text/plain": [
       "bytearray(b'Wello')"
      ]
     },
     "execution_count": 10,
     "metadata": {},
     "output_type": "execute_result"
    }
   ],
   "source": [
    "ba = bytearray(b'hello')\n",
    "ba[0] = 87\n",
    "ba"
   ]
  },
  {
   "cell_type": "code",
   "execution_count": 11,
   "id": "8bfc4565",
   "metadata": {},
   "outputs": [],
   "source": [
    "#зачем строки переводить в байты?\n"
   ]
  },
  {
   "cell_type": "code",
   "execution_count": null,
   "id": "6107311f",
   "metadata": {},
   "outputs": [],
   "source": []
  }
 ],
 "metadata": {
  "kernelspec": {
   "display_name": "Python 3 (ipykernel)",
   "language": "python",
   "name": "python3"
  },
  "language_info": {
   "codemirror_mode": {
    "name": "ipython",
    "version": 3
   },
   "file_extension": ".py",
   "mimetype": "text/x-python",
   "name": "python",
   "nbconvert_exporter": "python",
   "pygments_lexer": "ipython3",
   "version": "3.9.7"
  }
 },
 "nbformat": 4,
 "nbformat_minor": 5
}
